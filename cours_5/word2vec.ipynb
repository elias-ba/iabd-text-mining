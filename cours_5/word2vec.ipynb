{
 "cells": [
  {
   "cell_type": "code",
   "execution_count": null,
   "metadata": {},
   "outputs": [],
   "source": [
    "!pip install --upgrade gensim"
   ]
  },
  {
   "cell_type": "code",
   "execution_count": 16,
   "metadata": {},
   "outputs": [
    {
     "name": "stdout",
     "output_type": "stream",
     "text": [
      "[[-0.05635742  0.05918491  0.03972041 ... -0.06614378  0.02383878\n",
      "  -0.03762323]\n",
      " [-0.06040791  0.06230147  0.04157177 ... -0.06387999  0.0218899\n",
      "  -0.03720056]\n",
      " [-0.05699042  0.0563762   0.03745269 ... -0.06417179  0.03326948\n",
      "  -0.04497739]\n",
      " ...\n",
      " [-0.03564273  0.05906085  0.01504261 ... -0.07165366  0.02443991\n",
      "  -0.02182463]\n",
      " [ 0.03292011  0.136173   -0.01821003 ... -0.09485757  0.03110315\n",
      "   0.03034636]\n",
      " [-0.03000311  0.15891828  0.08417103 ...  0.07431207 -0.01667752\n",
      "  -0.01218586]]\n"
     ]
    }
   ],
   "source": [
    "from gensim.models import Word2Vec\n",
    "import gensim\n",
    "from nltk.tokenize import sent_tokenize, word_tokenize\n",
    "\n",
    "sample = open(\"sample.txt\")\n",
    "\n",
    "content = sample.read()\n",
    "\n",
    "data = []\n",
    "\n",
    "for sentence in sent_tokenize(content):\n",
    "    words = []\n",
    "    for word in word_tokenize(sentence):\n",
    "        words.append(word.lower())\n",
    "    data.append(words)\n",
    "\n",
    "model = Word2Vec(data, min_count=1, vector_size=100, window=2)\n",
    "\n",
    "# sim = model.wv.similarity(\"alice\", \"Wonderland\")\n",
    "\n",
    "print(model.wv.get_normed_vectors())"
   ]
  },
  {
   "cell_type": "code",
   "execution_count": null,
   "metadata": {},
   "outputs": [],
   "source": []
  }
 ],
 "metadata": {
  "kernelspec": {
   "display_name": "Python 3",
   "language": "python",
   "name": "python3"
  },
  "language_info": {
   "codemirror_mode": {
    "name": "ipython",
    "version": 3
   },
   "file_extension": ".py",
   "mimetype": "text/x-python",
   "name": "python",
   "nbconvert_exporter": "python",
   "pygments_lexer": "ipython3",
   "version": "3.11.7"
  }
 },
 "nbformat": 4,
 "nbformat_minor": 2
}
